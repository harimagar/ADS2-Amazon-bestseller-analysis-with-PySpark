{
  "nbformat": 4,
  "nbformat_minor": 0,
  "metadata": {
    "colab": {
      "provenance": []
    },
    "kernelspec": {
      "name": "python3",
      "display_name": "Python 3"
    },
    "language_info": {
      "name": "python"
    }
  },
  "cells": [
    {
      "cell_type": "markdown",
      "source": [
        "# CW1 - Amazon Bestsellers Analysis with PySpark\n",
        "\n",
        "\n",
        "In this assignment you will be tasked with exploring a dataset containing the Top 50 best-selling books from Amazon between 2009-2019. You should complete the exercises presented in the Google Colab Notebook below. This assignment will be graded using CodeGrade.\n",
        "\n",
        "Exercise 1 (5 Marks): Find the authors with the most entries in the bestseller’s lists, find the number of unique titles for each, the average rating, total number of reviews, and highest position in the ranking.\n",
        "\n",
        "Exercise 2 (5 Marks): For fiction and non-fiction books, find the average and total number of reviews for the top 10, 25, and 50 of the bestsellers lists, in each year.\n",
        "\n",
        "Exercise 3 (10 Marks): For each year, find the average price of a fiction and non-fiction book in the top 10, 25 and 50 of the bestsellers lists.\n",
        "\n",
        "Exercise 4 (10 Marks): For free books—where the price is zero—fine the number of unique titles and authors. Compare the average rating and number of reviews in each year between free and priced books.\n"
      ],
      "metadata": {
        "id": "04k66G6XOD3o"
      }
    },
    {
      "cell_type": "code",
      "execution_count": 1,
      "metadata": {
        "id": "I6b460JnN-7H",
        "colab": {
          "base_uri": "https://localhost:8080/"
        },
        "outputId": "8be02959-fb02-4484-b19b-2b5ad6566d44"
      },
      "outputs": [
        {
          "output_type": "stream",
          "name": "stdout",
          "text": [
            "Mounted at /content/drive\n"
          ]
        }
      ],
      "source": [
        "# CodeGrade Tag Init1\n",
        "\n",
        "from google.colab import drive\n",
        "drive.mount('/content/drive')"
      ]
    },
    {
      "cell_type": "code",
      "source": [
        "# CodeGrade Tag Init2\n",
        "\n",
        "# Apache Spark uses Java, so first we must install that\n",
        "!apt-get update\n",
        "!apt-get install openjdk-8-jdk-headless -qq > /dev/null\n",
        "\n",
        "# Unpack Spark from google drive\n",
        "!tar xzf /content/drive/MyDrive/spark-3.3.0-bin-hadoop3.tgz\n",
        "\n",
        "# Set up environment variables\n",
        "import os\n",
        "os.environ[\"JAVA_HOME\"] = \"/usr/lib/jvm/java-8-openjdk-amd64\"\n",
        "os.environ[\"SPARK_HOME\"] = \"spark-3.3.0-bin-hadoop3\"\n",
        "\n",
        "# Install findspark, which helps python locate the psyspark module files\n",
        "!pip install -q findspark\n",
        "import findspark\n",
        "findspark.init()"
      ],
      "metadata": {
        "id": "Ya7WJUs2PwZF",
        "colab": {
          "base_uri": "https://localhost:8080/"
        },
        "outputId": "3dca1b93-65f0-41bd-b6cb-46c7b7c57acb"
      },
      "execution_count": 2,
      "outputs": [
        {
          "output_type": "stream",
          "name": "stdout",
          "text": [
            "\r0% [Working]\r            \rGet:1 https://cloud.r-project.org/bin/linux/ubuntu jammy-cran40/ InRelease [3,626 B]\n",
            "\r0% [Waiting for headers] [Waiting for headers] [1 InRelease 0 B/3,626 B 0%] [Connecting to ppa.launc\r                                                                                                    \rGet:2 https://developer.download.nvidia.com/compute/cuda/repos/ubuntu2204/x86_64  InRelease [1,581 B]\n",
            "\r0% [Waiting for headers] [Waiting for headers] [1 InRelease 0 B/3,626 B 0%] [Connecting to ppa.launc\r0% [Waiting for headers] [Waiting for headers] [1 InRelease 3,626 B/3,626 B 100%] [Connecting to ppa\r0% [Waiting for headers] [Waiting for headers] [Connecting to ppa.launchpadcontent.net (185.125.190.\r                                                                                                    \rHit:3 http://archive.ubuntu.com/ubuntu jammy InRelease\n",
            "\r0% [Waiting for headers] [Waiting for headers] [Connecting to ppa.launchpadcontent.net (185.125.190.\r                                                                                                    \rGet:4 http://archive.ubuntu.com/ubuntu jammy-updates InRelease [119 kB]\n",
            "Get:5 http://security.ubuntu.com/ubuntu jammy-security InRelease [110 kB]\n",
            "Get:6 https://developer.download.nvidia.com/compute/cuda/repos/ubuntu2204/x86_64  Packages [770 kB]\n",
            "Get:7 http://archive.ubuntu.com/ubuntu jammy-backports InRelease [109 kB]\n",
            "Hit:8 https://ppa.launchpadcontent.net/c2d4u.team/c2d4u4.0+/ubuntu jammy InRelease\n",
            "Hit:9 https://ppa.launchpadcontent.net/deadsnakes/ppa/ubuntu jammy InRelease\n",
            "Hit:10 https://ppa.launchpadcontent.net/graphics-drivers/ppa/ubuntu jammy InRelease\n",
            "Hit:11 https://ppa.launchpadcontent.net/ubuntugis/ppa/ubuntu jammy InRelease\n",
            "Get:12 http://archive.ubuntu.com/ubuntu jammy-updates/restricted amd64 Packages [2,056 kB]\n",
            "Get:13 http://archive.ubuntu.com/ubuntu jammy-updates/universe amd64 Packages [1,354 kB]\n",
            "Get:14 http://archive.ubuntu.com/ubuntu jammy-updates/main amd64 Packages [1,885 kB]\n",
            "Get:15 http://archive.ubuntu.com/ubuntu jammy-backports/universe amd64 Packages [33.3 kB]\n",
            "Get:16 http://security.ubuntu.com/ubuntu jammy-security/main amd64 Packages [1,602 kB]\n",
            "Get:17 http://security.ubuntu.com/ubuntu jammy-security/universe amd64 Packages [1,080 kB]\n",
            "Get:18 http://security.ubuntu.com/ubuntu jammy-security/restricted amd64 Packages [2,012 kB]\n",
            "Fetched 11.1 MB in 3s (3,872 kB/s)\n",
            "Reading package lists... Done\n"
          ]
        }
      ]
    },
    {
      "cell_type": "code",
      "source": [
        "# Finally, we initialse a \"SparkSession\", which handles the computations\n",
        "from pyspark.sql import SparkSession\n",
        "spark = SparkSession.builder\\\n",
        "        .master(\"local\")\\\n",
        "        .appName(\"Colab\")\\\n",
        "        .config('spark.ui.port', '4050')\\\n",
        "        .getOrCreate()\n",
        "\n",
        "from pyspark.sql import functions as F"
      ],
      "metadata": {
        "id": "qoS2qInhP_jy"
      },
      "execution_count": 3,
      "outputs": []
    },
    {
      "cell_type": "code",
      "source": [
        "# Load the AmazonBooks.csv file into your notebook as a pyspark dataframe\n",
        "\n",
        "CsvPath = '/content/AmazonBooks-1.csv'\n",
        "\n",
        "# Load .csv with header, ',' seperators and inferred schema\n",
        "BooksDF = spark.read\\\n",
        "                     .option('header', 'True')\\\n",
        "                     .option('sep', ',')\\\n",
        "                     .option('inferSchema', 'True')\\\n",
        "                     .csv(CsvPath)\n",
        "\n"
      ],
      "metadata": {
        "id": "u_sX_aYiGMrH"
      },
      "execution_count": 5,
      "outputs": []
    },
    {
      "cell_type": "code",
      "source": [
        "# CodeGrade Tag Init3\n",
        "\n",
        "BooksDF.printSchema()\n",
        "BooksDF.show()"
      ],
      "metadata": {
        "id": "kS0QdyQjG8yK",
        "colab": {
          "base_uri": "https://localhost:8080/"
        },
        "outputId": "2ae513c3-3ea9-4f36-febc-67a0bc13147c"
      },
      "execution_count": 6,
      "outputs": [
        {
          "output_type": "stream",
          "name": "stdout",
          "text": [
            "root\n",
            " |-- Name: string (nullable = true)\n",
            " |-- Author: string (nullable = true)\n",
            " |-- User Rating: double (nullable = true)\n",
            " |-- Reviews: integer (nullable = true)\n",
            " |-- Price: integer (nullable = true)\n",
            " |-- Year: integer (nullable = true)\n",
            " |-- Genre: string (nullable = true)\n",
            " |-- Rank: integer (nullable = true)\n",
            "\n",
            "+--------------------+----------------+-----------+-------+-----+----+-----------+----+\n",
            "|                Name|          Author|User Rating|Reviews|Price|Year|      Genre|Rank|\n",
            "+--------------------+----------------+-----------+-------+-----+----+-----------+----+\n",
            "|            The Help|Kathryn Stockett|        4.8|  13871|    6|2009|    Fiction|   1|\n",
            "|Where the Wild Th...|  Maurice Sendak|        4.8|   9967|   13|2009|    Fiction|   2|\n",
            "|The Last Olympian...|    Rick Riordan|        4.8|   4628|    7|2009|    Fiction|   3|\n",
            "|Diary of a Wimpy ...|     Jeff Kinney|        4.8|   3837|   15|2009|    Fiction|   4|\n",
            "|            Watchmen|      Alan Moore|        4.8|   3829|   42|2009|    Fiction|   5|\n",
            "|Liberty and Tyran...|   Mark R. Levin|        4.8|   3828|   15|2009|Non Fiction|   6|\n",
            "|Dog Days (Diary o...|     Jeff Kinney|        4.8|   3181|   12|2009|    Fiction|   7|\n",
            "|Mastering the Art...|     Julia Child|        4.8|   2926|   27|2009|Non Fiction|   8|\n",
            "|Have a Little Fai...|     Mitch Albom|        4.8|   1930|    4|2009|Non Fiction|   9|\n",
            "|  The 5000 Year Leap|W. Cleon Skousen|        4.8|   1680|   12|2009|Non Fiction|  10|\n",
            "|       The Love Dare|Stephen Kendrick|        4.8|   1655|   13|2009|Non Fiction|  11|\n",
            "|Twilight (The Twi...| Stephenie Meyer|        4.7|  11676|    9|2009|    Fiction|  12|\n",
            "|The Guernsey Lite...|Mary Ann Shaffer|        4.7|   8587|   10|2009|    Fiction|  13|\n",
            "|The Girl Who Play...|   Stieg Larsson|        4.7|   7251|   16|2009|    Fiction|  14|\n",
            "|Eclipse (Twilight...| Stephenie Meyer|        4.7|   5505|    7|2009|    Fiction|  15|\n",
            "|  Eclipse (Twilight)| Stephenie Meyer|        4.7|   5505|   18|2009|    Fiction|  16|\n",
            "|    The Last Lecture|    Randy Pausch|        4.7|   4028|    9|2009|Non Fiction|  17|\n",
            "|The Twilight Saga...| Stephenie Meyer|        4.7|   3801|   82|2009|    Fiction|  18|\n",
            "|Crazy Love: Overw...|    Francis Chan|        4.7|   1542|   14|2009|Non Fiction|  19|\n",
            "|   Sookie Stackhouse|Charlaine Harris|        4.7|    973|   25|2009|    Fiction|  20|\n",
            "+--------------------+----------------+-----------+-------+-----+----+-----------+----+\n",
            "only showing top 20 rows\n",
            "\n"
          ]
        }
      ]
    },
    {
      "cell_type": "code",
      "source": [
        "# pyspark.sql.functions countains all the transformations and actions you will\n",
        "# need\n",
        "from pyspark.sql import functions as F"
      ],
      "metadata": {
        "id": "TuAo0k6bG0Zq"
      },
      "execution_count": 7,
      "outputs": []
    },
    {
      "cell_type": "markdown",
      "source": [
        "# Exercise 1\n",
        "\n",
        "Find the authors with the most entries in the bestsellers lists. Find the number of unique titles for each author, the average rating, total number of reviews and highest position in the ranking. Create a dataframe where the columns are:\n",
        "\n",
        "Author, Number of titles, Average Rating, Total Ratings, Highest Position\n",
        "\n",
        "Sort by the number of titles in descending order."
      ],
      "metadata": {
        "id": "nuSgzl6DZ33Z"
      }
    },
    {
      "cell_type": "code",
      "source": [
        "# CodeGrade Tag Ex1\n",
        "### Create a dataframe that contains, for each author, the number of unique\n",
        "### books, the average rating, the number of reviews and the highest rank reached\n",
        "\n",
        "# Group the DataFrame by Author and calculate aggregate statistics\n",
        "\n",
        "authorsDF = BooksDF.groupBy(\"Author\") \\\n",
        "    .agg(\n",
        "        F.countDistinct(\"Name\").alias(\"Number of titles\"),\n",
        "        F.avg(\"User Rating\").alias(\"Average Rating\"),\n",
        "        F.sum(\"Reviews\").alias(\"Total Ratings\"),\n",
        "        F.max(\"Rank\").alias(\"Highest Position\")\n",
        "    )\n",
        "\n",
        "# Sort the DataFrame by the total number of titles in descending order\n",
        "authorsDF = authorsDF.orderBy(F.desc(\"Number of Titles\"))\n",
        "\n",
        "# dispaying the resulting dataframe\n",
        "authorsDF.show()\n",
        "\n"
      ],
      "metadata": {
        "id": "AzsBLIkNgdHm",
        "colab": {
          "base_uri": "https://localhost:8080/"
        },
        "outputId": "2e37f90b-8289-41f9-957d-137911a8d04c"
      },
      "execution_count": 8,
      "outputs": [
        {
          "output_type": "stream",
          "name": "stdout",
          "text": [
            "+----------------+----------------+------------------+-------------+----------------+\n",
            "|          Author|Number of titles|    Average Rating|Total Ratings|Highest Position|\n",
            "+----------------+----------------+------------------+-------------+----------------+\n",
            "|     Jeff Kinney|              13| 4.807692307692306|        93529|              20|\n",
            "|    Rick Riordan|              10|4.7727272727272725|        44169|              24|\n",
            "| Stephenie Meyer|               8|             4.675|       108273|              26|\n",
            "|      Dav Pilkey|               7|               4.9|        82541|              10|\n",
            "|   Bill O'Reilly|               6| 4.642857142857143|        63787|              38|\n",
            "|    J.K. Rowling|               6|              4.45|        70535|              50|\n",
            "| Suzanne Collins|               6| 4.666666666666667|       315502|              34|\n",
            "|       E L James|               5| 4.233333333333333|       178011|              50|\n",
            "|    John Grisham|               5|               4.4|        60961|              47|\n",
            "|   Stieg Larsson|               4|4.6000000000000005|        51114|              41|\n",
            "|    Stephen King|               4|             4.525|        29385|              44|\n",
            "|      Ina Garten|               4|               4.7|        15066|              44|\n",
            "|Charlaine Harris|               4|              4.45|         6532|              47|\n",
            "|    Gary Chapman|               3| 4.741666666666666|       190132|              33|\n",
            "|   Joanna Gaines|               3| 4.833333333333333|        30158|              22|\n",
            "|   Veronica Roth|               3|4.3999999999999995|        78190|              49|\n",
            "|    Ree Drummond|               3|               4.8|         8967|              19|\n",
            "|Malcolm Gladwell|               3|               4.5|        28997|              43|\n",
            "|      Glenn Beck|               3| 4.566666666666666|         2634|              36|\n",
            "|       Dan Brown|               3|               4.2|        57302|              48|\n",
            "+----------------+----------------+------------------+-------------+----------------+\n",
            "only showing top 20 rows\n",
            "\n"
          ]
        }
      ]
    },
    {
      "cell_type": "markdown",
      "source": [
        "# Exercise 2\n",
        "\n",
        "For fiction and non-fiction books, find the average rating, the average number of reviews, the total number of reviews and the average price in the bestsellers list, for each year. Create a dataframe where the columns are:\n",
        "\n",
        "Year, Genre, Average Rating, Average Number of Reviews, Total Reviews, Average Price,\n",
        "\n",
        "Sort by the year in ascending order."
      ],
      "metadata": {
        "id": "l_DwW41dX9aT"
      }
    },
    {
      "cell_type": "code",
      "source": [
        "# CodeGrade Tag Ex2\n",
        "### Create a dataframe that shows the average user rating, average number of\n",
        "### reviews, total number of reviews and average price in each year of the\n",
        "### bestsellers list\n",
        "\n",
        "# Group the DataFrame by Year and Genre, and calculate aggregate statistics\n",
        "genre_yr_statDF = BooksDF.groupBy(\"Year\", \"Genre\") \\\n",
        "    .agg(\n",
        "        F.avg(\"User Rating\").alias(\"Average Rating\"),\n",
        "        F.avg(\"Reviews\").alias(\"Average Number of Reviews\"),\n",
        "        F.sum(\"Reviews\").alias(\"Total Reviews\"),\n",
        "        F.avg(\"Price\").alias(\"Average Price\")\n",
        "    )\n",
        "\n",
        "#  Sort the DataFrame by year in ascending order\n",
        "genre_yr_statDF = genre_yr_statDF.orderBy(\"Year\")\n",
        "\n",
        "#dispaying the resulting dataframe\n",
        "genre_yr_statDF.show()\n",
        "\n",
        "\n"
      ],
      "metadata": {
        "id": "Uu7Y9M_7fFM6",
        "colab": {
          "base_uri": "https://localhost:8080/"
        },
        "outputId": "8aaa9ead-7ee6-4ac5-a8ca-66473aa94a6e"
      },
      "execution_count": 9,
      "outputs": [
        {
          "output_type": "stream",
          "name": "stdout",
          "text": [
            "+----+-----------+------------------+-------------------------+-------------+------------------+\n",
            "|Year|      Genre|    Average Rating|Average Number of Reviews|Total Reviews|     Average Price|\n",
            "+----+-----------+------------------+-------------------------+-------------+------------------+\n",
            "|2009|    Fiction| 4.591666666666667|        6534.333333333333|       156824|15.583333333333334|\n",
            "|2009|Non Fiction| 4.576923076923077|        3026.230769230769|        78682| 15.23076923076923|\n",
            "|2010|    Fiction|             4.615|                  8409.25|       168185|               9.7|\n",
            "|2010|Non Fiction|4.5200000000000005|       3526.5333333333333|       105796|              16.0|\n",
            "|2011|    Fiction|4.6190476190476195|       10335.285714285714|       217041|11.619047619047619|\n",
            "|2011|Non Fiction| 4.513793103448277|        6482.758620689655|       188000|17.620689655172413|\n",
            "|2012|    Fiction| 4.495238095238096|       19896.238095238095|       417821|12.285714285714286|\n",
            "|2012|Non Fiction| 4.558620689655172|        8162.931034482759|       236725|17.482758620689655|\n",
            "|2013|    Fiction| 4.545833333333333|       19986.833333333332|       479684|10.708333333333334|\n",
            "|2013|Non Fiction| 4.561538461538462|        6739.346153846154|       175223|18.192307692307693|\n",
            "|2014|    Fiction|  4.63103448275862|       19382.862068965518|       562103|10.172413793103448|\n",
            "|2014|Non Fiction|  4.60952380952381|       10994.952380952382|       230894| 20.80952380952381|\n",
            "|2015|    Fiction| 4.652941176470588|       23706.117647058825|       403004| 9.352941176470589|\n",
            "|2015|Non Fiction| 4.645454545454545|        9353.484848484848|       308665|10.969696969696969|\n",
            "|2016|Non Fiction|  4.65483870967742|       10906.387096774193|       338098|13.516129032258064|\n",
            "|2016|    Fiction| 4.715789473684208|       19563.263157894737|       371702|12.631578947368421|\n",
            "|2017|    Fiction| 4.737499999999998|       14611.833333333334|       350684| 8.833333333333334|\n",
            "|2017|Non Fiction| 4.588461538461538|       11297.538461538461|       293736| 13.73076923076923|\n",
            "|2018|Non Fiction| 4.617241379310345|       14813.862068965518|       429602|11.793103448275861|\n",
            "|2018|    Fiction| 4.738095238095236|        12710.42857142857|       266919| 8.761904761904763|\n",
            "+----+-----------+------------------+-------------------------+-------------+------------------+\n",
            "only showing top 20 rows\n",
            "\n"
          ]
        }
      ]
    },
    {
      "cell_type": "markdown",
      "source": [
        "# Exercise 1\n",
        "\n",
        "For each year, find the average price of fiction and non-fiction books in the top 10, 25 and 50 of the bestsellers list. Make a dataframe where the columns are:\n",
        "\n",
        "Year, Genre, Avg Price in Top 10, Avg Price in Top 25 and Avg Price in Top 50\n",
        "\n",
        "Sort by the year in ascending order."
      ],
      "metadata": {
        "id": "WIEZ21wyUn8g"
      }
    },
    {
      "cell_type": "code",
      "source": [
        "# CodeGrade Tag Ex3\n",
        "### Create a DataFrame that shows the average price for books in the top 10, 25\n",
        "### and 50 of the bestsellers list, for each year in the dataset\n",
        "\n",
        "#  Define a function to calculate the average price for different top lists\n",
        "def cal_avg_price(top_n):\n",
        "    return F.avg(F.when(F.col(\"Rank\") <= top_n, F.col(\"Price\")))\n",
        "\n",
        "# Group the DataFrame by Year and Genre, and calculate aggregate statistics\n",
        "top_list_DF = BooksDF.groupBy(\"Year\", \"Genre\") \\\n",
        "    .agg(\n",
        "        cal_avg_price(10).alias(\"Avg Price in Top 10\"),\n",
        "        cal_avg_price(25).alias(\"Avg Price in Top 25\"),\n",
        "        cal_avg_price(50).alias(\"Avg Price in Top 50\")\n",
        "    )\n",
        "\n",
        "#  Sort the DataFrame by year in ascending order\n",
        "topListsDF = top_list_DF.orderBy(\"Year\")\n",
        "\n",
        "# dispaying the resulting dataframe\n",
        "top_list_DF.show()\n"
      ],
      "metadata": {
        "id": "LHaC8-59G3Hr",
        "colab": {
          "base_uri": "https://localhost:8080/"
        },
        "outputId": "53d2abbb-9b72-4fb6-ca82-e1b62ed86df4"
      },
      "execution_count": 10,
      "outputs": [
        {
          "output_type": "stream",
          "name": "stdout",
          "text": [
            "+----+-----------+-------------------+-------------------+-------------------+\n",
            "|Year|      Genre|Avg Price in Top 10|Avg Price in Top 25|Avg Price in Top 50|\n",
            "+----+-----------+-------------------+-------------------+-------------------+\n",
            "|2014|Non Fiction|              12.25| 13.777777777777779|  20.80952380952381|\n",
            "|2011|    Fiction|             10.375| 10.923076923076923| 11.619047619047619|\n",
            "|2012|    Fiction| 13.333333333333334|               11.9| 12.285714285714286|\n",
            "|2019|    Fiction|                8.0|  8.833333333333334|               9.35|\n",
            "|2016|Non Fiction| 22.333333333333332|              11.75| 13.516129032258064|\n",
            "|2009|    Fiction| 15.833333333333334| 18.866666666666667| 15.583333333333334|\n",
            "|2012|Non Fiction|              17.25| 17.933333333333334| 17.482758620689655|\n",
            "|2020|Non Fiction|               15.5| 13.071428571428571| 13.037037037037036|\n",
            "|2014|    Fiction|  5.666666666666667|             11.125| 10.172413793103448|\n",
            "|2018|Non Fiction|                9.5|               13.3| 11.793103448275861|\n",
            "|2010|    Fiction| 10.777777777777779| 10.928571428571429|                9.7|\n",
            "|2011|Non Fiction|               12.0| 15.666666666666666| 17.620689655172413|\n",
            "|2009|Non Fiction|               14.5|               19.1|  15.23076923076923|\n",
            "|2010|Non Fiction|               16.0| 15.636363636363637|               16.0|\n",
            "|2019|Non Fiction|               null| 10.428571428571429| 10.566666666666666|\n",
            "|2013|    Fiction|  9.333333333333334|  9.357142857142858| 10.708333333333334|\n",
            "|2016|    Fiction| 12.285714285714286| 13.923076923076923| 12.631578947368421|\n",
            "|2015|    Fiction|  6.333333333333333|  6.666666666666667|  9.352941176470589|\n",
            "|2017|Non Fiction|               15.0|  9.571428571428571|  13.73076923076923|\n",
            "|2015|Non Fiction|              11.25|  9.692307692307692| 10.969696969696969|\n",
            "+----+-----------+-------------------+-------------------+-------------------+\n",
            "only showing top 20 rows\n",
            "\n"
          ]
        }
      ]
    },
    {
      "cell_type": "markdown",
      "source": [
        "# Exercise 4\n",
        "\n",
        "For free books, find the total number of unique title and author, store these as variables called ```free_titles``` and ```free_authors```.\n",
        "\n",
        "Compare the average rating and number of reviews for free and priced books, in each year of the dataset. Create a dataframe where the columns are:\n",
        "\n",
        "Year, Avg Rating Free, Avg Rating Priced, Total Ratings Free, Total Ratings Priced\n",
        "\n",
        "Sort by the year in ascending order."
      ],
      "metadata": {
        "id": "ciUez_m4aYmO"
      }
    },
    {
      "cell_type": "code",
      "source": [
        "# CodeGrade Tag Ex4a\n",
        "### Find the number of free books in the dataset and the number of authors\n",
        "### who wrote them\n",
        "\n",
        "# Filtering the DataFrame to include only free books\n",
        "free_books_DF = BooksDF.filter(BooksDF[\"Price\"] == 0)\n",
        "\n",
        "# Counting the total number of unique titles and authors for free book\n",
        "free_books_titles = free_books_DF.select(F.countDistinct(\"Name\")).collect()[0][0]\n",
        "free_books_authors = free_books_DF.select(F.countDistinct(\"Author\")).collect()[0][0]\n",
        "\n",
        "# dispaying the resulting dataframe\n",
        "print(\"Total number of unique titles for free books:\", free_books_titles)\n",
        "print(\"Total number of unique authors for free books:\", free_books_authors)\n",
        "\n"
      ],
      "metadata": {
        "id": "VXReWf6GmhIw",
        "colab": {
          "base_uri": "https://localhost:8080/"
        },
        "outputId": "4e6623cf-652e-4670-e6ae-ce62106920fe"
      },
      "execution_count": 11,
      "outputs": [
        {
          "output_type": "stream",
          "name": "stdout",
          "text": [
            "Total number of unique titles for free books: 9\n",
            "Total number of unique authors for free books: 6\n"
          ]
        }
      ]
    },
    {
      "cell_type": "code",
      "source": [
        "# CodeGrade Tag Exb\n",
        "### Create a dataframe that has, for each year, the average rating and number of\n",
        "### user reviews for free books and priced books\n",
        "\n",
        "# Grouping the DataFrame by Year and Price, then calculating the average rating and total reviews\n",
        "year_Com_DF = BooksDF.groupBy(\"Year\", \"Price\") \\\n",
        "    .agg(\n",
        "        F.avg(\"User Rating\").alias(\"Avg Rating\"),\n",
        "        F.sum(\"Reviews\").alias(\"Total Reviews\")\n",
        "    )\n",
        "\n",
        "# Pivoting the DataFrame to separate free and priced books by Year\n",
        "year_Com_DF  = year_Com_DF .groupBy(\"Year\") \\\n",
        "    .pivot(\"Price\") \\\n",
        "    .agg(\n",
        "        F.first(\"Avg Rating\").alias(\"Avg Rating\"),\n",
        "        F.first(\"Total Reviews\").alias(\"Total Reviews\")\n",
        "    )\n",
        "\n",
        "# Renaming the columns for clarity\n",
        "year_Com_DF  =year_Com_DF .withColumnRenamed(\"0.0\", \"Avg Rating Free\") \\\n",
        "    .withColumnRenamed(\"1.0\", \"Avg Rating Priced\") \\\n",
        "    .withColumnRenamed(\"0.0\", \"Total Reviews Free\") \\\n",
        "    .withColumnRenamed(\"1.0\", \"Total Reviews Priced\")\n",
        "\n",
        "# Sorting the DataFrame by year in ascending order\n",
        "year_Com_DF  = year_Com_DF .orderBy(\"Year\")\n",
        "\n",
        "# Displaying the resulting DataFrame\n",
        "year_Com_DF .show()"
      ],
      "metadata": {
        "id": "shnUw1VXhbCJ",
        "colab": {
          "base_uri": "https://localhost:8080/"
        },
        "outputId": "816710ac-bcc2-4de8-e8aa-2359ca3a13a3"
      },
      "execution_count": 12,
      "outputs": [
        {
          "output_type": "stream",
          "name": "stdout",
          "text": [
            "+----+------------+---------------+------------+---------------+------------+---------------+------------+---------------+------------------+---------------+------------------+---------------+------------------+---------------+------------------+---------------+------------------+---------------+------------------+---------------+-----------------+----------------+-----------------+----------------+------------------+----------------+------------------+----------------+------------------+----------------+-----------------+----------------+-----------------+----------------+-----------------+----------------+-------------+----------------+-------------+----------------+-----------------+----------------+-----------------+----------------+-----------------+----------------+-------------+----------------+-----------------+----------------+-------------+----------------+-------------+----------------+-------------+----------------+-------------+----------------+-------------+----------------+-------------+----------------+-------------+----------------+-------------+----------------+-------------+----------------+-------------+----------------+-------------+----------------+-------------+----------------+-------------+----------------+-------------+----------------+--------------+-----------------+\n",
            "|Year|0_Avg Rating|0_Total Reviews|1_Avg Rating|1_Total Reviews|2_Avg Rating|2_Total Reviews|3_Avg Rating|3_Total Reviews|      4_Avg Rating|4_Total Reviews|      5_Avg Rating|5_Total Reviews|      6_Avg Rating|6_Total Reviews|      7_Avg Rating|7_Total Reviews|      8_Avg Rating|8_Total Reviews|      9_Avg Rating|9_Total Reviews|    10_Avg Rating|10_Total Reviews|    11_Avg Rating|11_Total Reviews|     12_Avg Rating|12_Total Reviews|     13_Avg Rating|13_Total Reviews|     14_Avg Rating|14_Total Reviews|    15_Avg Rating|15_Total Reviews|    16_Avg Rating|16_Total Reviews|    17_Avg Rating|17_Total Reviews|18_Avg Rating|18_Total Reviews|19_Avg Rating|19_Total Reviews|    20_Avg Rating|20_Total Reviews|    21_Avg Rating|21_Total Reviews|    22_Avg Rating|22_Total Reviews|23_Avg Rating|23_Total Reviews|    24_Avg Rating|24_Total Reviews|25_Avg Rating|25_Total Reviews|27_Avg Rating|27_Total Reviews|28_Avg Rating|28_Total Reviews|30_Avg Rating|30_Total Reviews|32_Avg Rating|32_Total Reviews|36_Avg Rating|36_Total Reviews|39_Avg Rating|39_Total Reviews|40_Avg Rating|40_Total Reviews|42_Avg Rating|42_Total Reviews|46_Avg Rating|46_Total Reviews|52_Avg Rating|52_Total Reviews|53_Avg Rating|53_Total Reviews|54_Avg Rating|54_Total Reviews|82_Avg Rating|82_Total Reviews|105_Avg Rating|105_Total Reviews|\n",
            "+----+------------+---------------+------------+---------------+------------+---------------+------------+---------------+------------------+---------------+------------------+---------------+------------------+---------------+------------------+---------------+------------------+---------------+------------------+---------------+-----------------+----------------+-----------------+----------------+------------------+----------------+------------------+----------------+------------------+----------------+-----------------+----------------+-----------------+----------------+-----------------+----------------+-------------+----------------+-------------+----------------+-----------------+----------------+-----------------+----------------+-----------------+----------------+-------------+----------------+-----------------+----------------+-------------+----------------+-------------+----------------+-------------+----------------+-------------+----------------+-------------+----------------+-------------+----------------+-------------+----------------+-------------+----------------+-------------+----------------+-------------+----------------+-------------+----------------+-------------+----------------+-------------+----------------+-------------+----------------+--------------+-----------------+\n",
            "|2009|        null|           null|         4.5|            720|         4.4|          10559|        null|           null| 4.699999999999999|           3471|               4.6|            798|               4.6|          22510|               4.7|          11453|               4.6|          19720|               4.6|          20010|             4.65|           14267|              4.3|            6543|4.6000000000000005|            9380| 4.733333333333333|           21391|               4.5|            5955|              4.7|            8103|              4.7|            7251|              4.3|           10082|          4.6|            7088|          4.2|            8747|4.449999999999999|           17166|             null|            null|             null|            null|         null|            null|              4.6|            9325|          4.7|             973|          4.8|            2926|         null|            null|         null|            null|         null|            null|         null|            null|         null|            null|         null|            null|          4.8|            3829|          4.5|            8580|         null|            null|          4.7|             858|         null|            null|          4.7|            3801|          null|             null|\n",
            "|2010|         4.6|           2122|        null|           null|         4.6|          11567|        null|           null|              null|           null|              null|           null| 4.699999999999999|          17078|               4.8|           4628| 4.433333333333334|          29136| 4.550000000000001|          12006|4.466666666666667|           16899|4.483333333333333|           33806| 4.699999999999999|            5982| 4.533333333333334|           14719|4.6000000000000005|           51069|              4.6|            1651|             4.65|           32198|4.433333333333334|           10742|          4.5|            2752|         null|            null|              4.5|           11471|             4.75|            2897|             null|            null|         null|            null|             null|            null|         null|            null|         null|            null|          4.7|            3477|         null|            null|         null|            null|         null|            null|         null|            null|          4.4|            1201|         null|            null|          4.5|            8580|         null|            null|         null|            null|         null|            null|         null|            null|          null|             null|\n",
            "|2011|         4.8|           4505|        null|           null|        null|           null|        null|           null|               4.2|           2094|               4.6|           5594|               4.6|           3207|               4.8|          13871|             4.725|          92310|              4.62|          30529|             4.72|           42687|4.566666666666667|           40123|               4.4|           14935|4.3999999999999995|            9059| 4.633333333333334|           12746|              4.1|            2023|             4.55|           33432|              4.0|            5069|          4.4|            6222|          4.6|           11034|4.533333333333333|           13763|4.466666666666668|           13791|4.449999999999999|            4366|         null|            null|              4.6|            9325|         null|            null|         null|            null|          4.7|            3477|          4.8|           16949|          4.6|            4149|         null|            null|         null|            null|          4.4|            1201|         null|            null|          4.5|            8580|         null|            null|         null|            null|         null|            null|         null|            null|          null|             null|\n",
            "|2012|        null|           null|        null|           null|        null|           null|        null|           null|              null|           null|               4.6|           5594|               4.5|          10704|4.6000000000000005|          48662|              4.75|         100273|4.6000000000000005|          18215|              4.5|          102255|              4.6|           42876|              4.05|           11463|             4.575|           68990|             4.275|           60604|              4.5|           10760|              4.8|           29673|              4.0|            5069|         4.35|           31537|          4.6|           11034|              4.6|           17836|4.699999999999999|           13671|             null|            null|          4.5|            1904|4.699999999999999|           10621|          4.6|            8634|         null|            null|          4.7|            3477|          4.8|           16949|          4.5|           13964|         null|            null|         null|            null|          4.4|            1201|         null|            null|          4.5|            8580|         null|            null|         null|            null|         null|            null|         null|            null|          null|             null|\n",
            "|2013|         4.8|          33046|        null|           null|        null|           null|        null|           null|              4.55|          10663|              4.75|          25140|4.4799999999999995|          59432| 4.633333333333334|          28663|               4.9|          41410|               4.8|          30547|4.366666666666666|           72216|              4.8|            4148| 4.633333333333334|           23289| 4.416666666666667|           95570| 4.233333333333333|           83898|              4.7|           37622|              4.6|            4799|            4.525|           12848|          4.5|           23114|         null|            null|              4.4|           39240|             null|            null|             null|            null|         null|            null|              4.6|            9325|         null|            null|         null|            null|          4.7|            3477|         null|            null|         null|            null|         null|            null|         null|            null|          4.4|            1201|         null|            null|          4.5|            8580|         null|            null|         null|            null|         null|            null|         null|            null|           4.5|             6679|\n",
            "|2014|        4.75|          32738|        null|           null|        null|           null|        null|           null|4.6000000000000005|          27986| 4.733333333333333|          40745| 4.566666666666666|          51759| 4.533333333333333|          70589|             4.775|          59592|             4.475|          94971|              4.6|           11514|              4.7|           53531|              4.85|           27194|              4.75|           80155|               4.6|           36348|4.699999999999999|           30588|              4.8|           29673|             4.35|           14361|         null|            null|         null|            null|              4.2|           35230|             null|            null|              4.8|            6540|          4.6|           11128|             null|            null|         null|            null|         null|            null|          4.6|            6361|          4.7|           19735|         null|            null|         null|            null|          4.7|           35799|          4.4|            1201|         null|            null|          4.5|            8580|         null|            null|         null|            null|         null|            null|         null|            null|           4.5|             6679|\n",
            "|2015|         4.8|          26234|        null|           null|        null|           null|        null|           null|              4.68|          46046| 4.728571428571429|          65681| 4.566666666666667|          29184|               4.8|           6169|              4.78|          77471| 4.714285714285714|         104270|              4.6|            5542|             4.65|           98839|               4.8|           23358|               4.7|           10070|             4.625|           67273|              4.8|           11113|4.666666666666667|           18402|             4.45|            7881|          4.1|           79446|          3.6|           14982|             null|            null|             null|            null|             null|            null|          4.6|           11128|             null|            null|         null|            null|         null|            null|         null|            null|         null|            null|         null|            null|         null|            null|         null|            null|         null|            null|         null|            null|          4.5|            8580|         null|            null|         null|            null|         null|            null|         null|            null|          null|             null|\n",
            "|2016|         4.8|          29008|        null|           null|        null|           null|        null|           null|              4.64|          51033|4.8500000000000005|          43578|              4.75|          32224|               4.1|          79446|            4.7375|         150953|             4.725|          34891|             4.75|           14384|4.666666666666667|           96930|               4.0|           23973|              4.75|           19268|               4.6|           29305|              4.7|            4370|4.666666666666667|           16994|              4.0|            5069|          4.7|            3729|         null|            null|              4.8|            5118|             null|            null|              4.9|           10052|          4.6|           11128|             null|            null|         null|            null|         null|            null|         null|            null|          4.9|           19622|         null|            null|          4.3|             807|         null|            null|         null|            null|         null|            null|          4.5|            8580|          4.8|           13471|         null|            null|          4.9|            5867|         null|            null|          null|             null|\n",
            "|2017|         4.8|           5836|        null|           null|        null|           null|        null|           null| 4.739999999999999|          59751| 4.833333333333334|          68682|4.6000000000000005|          47845|               4.3|          36810| 4.742857142857143|         127812|              4.64|          46249|              4.9|            8842|4.633333333333334|           57841|               4.6|           22536|               4.3|           18904|               4.4|           15526|             4.65|           46189|             4.65|           12233|              4.3|           13462|          4.6|            5492|         null|            null|             null|            null|             4.55|            7374|              4.9|            3192|          4.6|           11128|             null|            null|         null|            null|          4.8|           16990|         null|            null|          4.9|            3146|         null|            null|         null|            null|         null|            null|         null|            null|         null|            null|          4.5|            8580|         null|            null|         null|            null|         null|            null|         null|            null|          null|             null|\n",
            "|2018|        null|           null|        null|           null|         4.4|           6042|         4.7|           5983|               4.8|          68779|              4.75|          65062|4.6000000000000005|          91175|               4.3|           7368| 4.699999999999999|         104727|              null|           null|              4.9|            8842|4.766666666666667|           96081| 4.574999999999999|           77199|              4.65|           19277|              null|            null|4.666666666666667|           74198|              4.8|           13790|              4.4|            7058|          4.4|           13792|         null|            null|              4.8|            7802|             null|            null|              4.8|            3776|         null|            null|             null|            null|         null|            null|          4.8|           16990|         null|            null|         null|            null|         null|            null|         null|            null|         null|            null|         null|            null|         null|            null|          4.5|            8580|         null|            null|         null|            null|         null|            null|         null|            null|          null|             null|\n",
            "|2019|        null|           null|        null|           null|        null|           null|        null|           null|              4.82|          74207| 4.779999999999999|          61502|              4.66|          78939|               4.8|          41447|4.8500000000000005|          92840|              null|           null|4.766666666666667|           29422|             4.75|           97596|               4.7|           59780|               4.6|           15566|               4.5|           41145|              4.7|          143060|             4.55|           10619|             null|            null|         4.85|           24002|         null|            null|              4.8|            7802|             null|            null|             null|            null|         null|            null|             null|            null|         null|            null|          4.8|           16990|         null|            null|         null|            null|         null|            null|         null|            null|         null|            null|         null|            null|         null|            null|         null|            null|         null|            null|         null|            null|         null|            null|         null|            null|          null|             null|\n",
            "|2020|        null|           null|         4.9|          24356|        null|           null|        null|           null|               4.7|          59768|               4.8|         110692|               4.8|         130159|4.6000000000000005|          87522|              4.75|         140409|4.7749999999999995|         165523|              4.6|          200599|              4.7|           45351|              4.55|           74242|               4.8|           98475|               4.7|           50052|             4.75|          249811|              4.4|           42235|              4.7|          152427|          4.7|           26740|         4.75|           37391|             null|            null|              4.8|           11769|             null|            null|          4.9|           83212|             null|            null|         null|            null|         null|            null|         null|            null|         null|            null|         null|            null|         null|            null|         null|            null|         null|            null|         null|            null|         null|            null|         null|            null|         null|            null|         null|            null|         null|            null|          null|             null|\n",
            "+----+------------+---------------+------------+---------------+------------+---------------+------------+---------------+------------------+---------------+------------------+---------------+------------------+---------------+------------------+---------------+------------------+---------------+------------------+---------------+-----------------+----------------+-----------------+----------------+------------------+----------------+------------------+----------------+------------------+----------------+-----------------+----------------+-----------------+----------------+-----------------+----------------+-------------+----------------+-------------+----------------+-----------------+----------------+-----------------+----------------+-----------------+----------------+-------------+----------------+-----------------+----------------+-------------+----------------+-------------+----------------+-------------+----------------+-------------+----------------+-------------+----------------+-------------+----------------+-------------+----------------+-------------+----------------+-------------+----------------+-------------+----------------+-------------+----------------+-------------+----------------+-------------+----------------+-------------+----------------+--------------+-----------------+\n",
            "\n"
          ]
        }
      ]
    }
  ]
}